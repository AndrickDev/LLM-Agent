{
  "nbformat": 4,
  "nbformat_minor": 0,
  "metadata": {
    "colab": {
      "provenance": []
    },
    "kernelspec": {
      "name": "python3",
      "display_name": "Python 3"
    },
    "language_info": {
      "name": "python"
    }
  },
  "cells": [
    {
      "cell_type": "code",
      "execution_count": null,
      "metadata": {
        "colab": {
          "base_uri": "https://localhost:8080/"
        },
        "id": "zBDwlRaTsaph",
        "outputId": "24aeb9e4-feb4-4742-e62c-f61669f6529d"
      },
      "outputs": [
        {
          "output_type": "stream",
          "name": "stdout",
          "text": [
            "\u001b[2K   \u001b[90m━━━━━━━━━━━━━━━━━━━━━━━━━━━━━━━━━━━━━━━━\u001b[0m \u001b[32m3.3/3.3 MB\u001b[0m \u001b[31m14.1 MB/s\u001b[0m eta \u001b[36m0:00:00\u001b[0m\n",
            "\u001b[2K   \u001b[90m━━━━━━━━━━━━━━━━━━━━━━━━━━━━━━━━━━━━━━━━\u001b[0m \u001b[32m129.6/129.6 kB\u001b[0m \u001b[31m3.2 MB/s\u001b[0m eta \u001b[36m0:00:00\u001b[0m\n",
            "\u001b[?25h"
          ]
        }
      ],
      "source": [
        "!pip install -q duckduckgo-search\n",
        "!pip install -q serpapi\n",
        "!pip install -q groq\n",
        "\n",
        "import os\n",
        "import requests\n",
        "import serpapi\n",
        "from duckduckgo_search import DDGS"
      ]
    },
    {
      "cell_type": "code",
      "source": [
        "os.environ[\"GROQ_API_KEY\"] = \"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\"\n",
        "os.environ[\"SERPAPI_API_KEY\"] = \"1de1687c638882a90b7947583842eae9ed49874efccf36ab9c96b8c2ec330ebe\""
      ],
      "metadata": {
        "id": "lLY-G7JXt20a"
      },
      "execution_count": null,
      "outputs": []
    },
    {
      "cell_type": "code",
      "source": [
        "def buscar_no_ddg(consulta, max_resultados=3):\n",
        "    \"\"\"Realiza uma busca no DuckDuckGo e retorna os resultados formatados.\"\"\"\n",
        "    try:\n",
        "        with DDGS() as ddgs:\n",
        "            resultados = ddgs.text(consulta, max_results=max_resultados)\n",
        "            if not resultados:\n",
        "                return \"Nenhum resultado encontrado no DuckDuckGo.\"\n",
        "            return \"\\n\".join([f\"- {r.get('title', '')}: {r.get('body', '')}\" for r in resultados])\n",
        "    except Exception as e:\n",
        "        return f\"Erro ao buscar no DuckDuckGo: {e}\"\n",
        "\n",
        "def buscar_com_serpapi(consulta, num_resultados=3):\n",
        "    \"\"\"Realiza uma busca no Google usando a API da SerpApi e retorna os resultados formatados.\"\"\"\n",
        "    try:\n",
        "        parametros = {\n",
        "            \"q\": consulta,\n",
        "            \"api_key\": os.environ[\"SERPAPI_API_KEY\"],\n",
        "            \"engine\": \"google\",\n",
        "            \"num\": num_resultados\n",
        "        }\n",
        "        client = serpapi.Client()\n",
        "        resultados = client.search(parametros)\n",
        "\n",
        "        if \"organic_results\" not in resultados:\n",
        "            return \"Nenhum resultado orgânico encontrado no Google.\"\n",
        "\n",
        "        snippets = []\n",
        "        for item in resultados.get(\"organic_results\", []):\n",
        "            title = item.get(\"title\", \"\")\n",
        "            snippet = item.get(\"snippet\", \"\")\n",
        "            snippets.append(f\"- {title}: {snippet}\")\n",
        "\n",
        "        return \"\\n\".join(snippets)\n",
        "    except Exception as e:\n",
        "        return f\"Erro ao buscar com SerpApi: {e}\""
      ],
      "metadata": {
        "id": "OwMiC6mBt8CW"
      },
      "execution_count": null,
      "outputs": []
    },
    {
      "cell_type": "code",
      "source": [
        "def gerar_resposta_com_groq(comportamento, tema, dados_ddg, dados_google, modelo=\"llama3-70b-8192\", temperatura=0.7):\n",
        "    \"\"\"Gera uma resposta utilizando a API da Groq com base no comportamento, tema e dados de busca.\"\"\"\n",
        "    url = \"https://api.groq.com/openai/v1/chat/completions\"\n",
        "    headers = {\n",
        "        \"Authorization\": f\"Bearer {os.environ['GROQ_API_KEY']}\",\n",
        "        \"Content-Type\": \"application/json\"\n",
        "    }\n",
        "\n",
        "    system_prompt = comportamento\n",
        "    user_prompt = f\"\"\"\n",
        "    Com base nas informações coletadas abaixo, responda sobre o tema '{tema}'.\n",
        "\n",
        "    Informações do DuckDuckGo:\n",
        "    {dados_ddg}\n",
        "\n",
        "    Informações do Google:\n",
        "    {dados_google}\n",
        "    \"\"\"\n",
        "\n",
        "    payload = {\n",
        "        \"model\": modelo,\n",
        "        \"messages\": [\n",
        "            {\"role\": \"system\", \"content\": system_prompt},\n",
        "            {\"role\": \"user\", \"content\": user_prompt}\n",
        "        ],\n",
        "        \"temperature\": temperatura\n",
        "    }\n",
        "\n",
        "    try:\n",
        "        resposta = requests.post(url, headers=headers, json=payload)\n",
        "        resposta.raise_for_status()\n",
        "        return resposta.json()['choices'][0]['message']['content']\n",
        "    except requests.exceptions.RequestException as e:\n",
        "        return f\"Erro na chamada da API da Groq: {e}\"\n",
        "    except (KeyError, IndexError) as e:\n",
        "        return f\"Erro ao processar a resposta da Groq: {e}, Resposta: {resposta.text}\""
      ],
      "metadata": {
        "id": "_gjOaSXGt7_e"
      },
      "execution_count": null,
      "outputs": []
    },
    {
      "cell_type": "code",
      "source": [
        "def processar_testes(testes):\n",
        "    \"\"\"Processa a lista de testes, busca informações e gera as respostas.\"\"\"\n",
        "    lista_respostas = []\n",
        "    for teste in testes:\n",
        "        if not teste:\n",
        "            continue\n",
        "\n",
        "        id_teste = teste.get(\"id\")\n",
        "        comportamento = teste.get(\"comportamento\")\n",
        "        tema = teste.get(\"tema\")\n",
        "\n",
        "        if not all([id_teste, comportamento, tema]):\n",
        "            print(f\"Aviso: Teste com id '{id_teste}' está incompleto e será ignorado.\")\n",
        "            continue\n",
        "\n",
        "        print(f\"Processando id: {id_teste} | Tema: {tema}\")\n",
        "        print(\"Buscando no DuckDuckGo...\")\n",
        "        info_ddg = buscar_no_ddg(tema)\n",
        "\n",
        "        print(\"Buscando no Google (SerpApi)...\")\n",
        "        info_google = buscar_com_serpapi(tema)\n",
        "        print(\"Gerando resposta com a Groq...\")\n",
        "        resposta_final = gerar_resposta_com_groq(comportamento, tema, info_ddg, info_google)\n",
        "\n",
        "        lista_respostas.append({\n",
        "            'id': id_teste,\n",
        "            'resposta': resposta_final\n",
        "        })\n",
        "        print(\"-\" * 30)\n",
        "\n",
        "    return lista_respostas"
      ],
      "metadata": {
        "id": "VpgyWnzAt75o"
      },
      "execution_count": null,
      "outputs": []
    },
    {
      "cell_type": "code",
      "source": [
        "testes = [\n",
        "    {\n",
        "        \"id\": \"1\",\n",
        "        \"comportamento\": \"Aja como um especialista em nutrição que responde de maneira simples e acessível\",\n",
        "        \"tema\": \"Como alimentos podem interferir na glicose\"\n",
        "    },\n",
        "    {\n",
        "        \"id\": \"2\",\n",
        "        \"comportamento\": \"Aja como um especialista em nutrição que responde de forma acadêmica e formal\",\n",
        "        \"tema\": \"Como alimentos podem interferir na glicose\"\n",
        "    },\n",
        "    {\n",
        "        \"id\": \"3\",\n",
        "        \"comportamento\": \"Aja como um especialista em marketing e responda como um influenciador de rede social\",\n",
        "        \"tema\": \"Mix de marketing\"\n",
        "    },\n",
        "    {\n",
        "        \"id\": \"4\",\n",
        "        \"comportamento\": \"Aja como um especialista em marketing e responda de maneira acadêmica e formal\",\n",
        "        \"tema\": \"Mix de marketing\"\n",
        "    }\n",
        "]\n",
        "resultado_final = processar_testes(testes)"
      ],
      "metadata": {
        "id": "iS1HijnHuK_T",
        "colab": {
          "base_uri": "https://localhost:8080/"
        },
        "outputId": "dda68bbb-5ddf-43a7-a789-f77fa628e895"
      },
      "execution_count": null,
      "outputs": [
        {
          "output_type": "stream",
          "name": "stdout",
          "text": [
            "Processando id: 1 | Tema: Como alimentos podem interferir na glicose\n",
            "Buscando no DuckDuckGo...\n",
            "Buscando no Google (SerpApi)...\n",
            "Gerando resposta com a Groq...\n",
            "------------------------------\n",
            "Processando id: 2 | Tema: Como alimentos podem interferir na glicose\n",
            "Buscando no DuckDuckGo...\n",
            "Buscando no Google (SerpApi)...\n",
            "Gerando resposta com a Groq...\n",
            "------------------------------\n",
            "Processando id: 3 | Tema: Mix de marketing\n",
            "Buscando no DuckDuckGo...\n",
            "Buscando no Google (SerpApi)...\n",
            "Gerando resposta com a Groq...\n",
            "------------------------------\n",
            "Processando id: 4 | Tema: Mix de marketing\n",
            "Buscando no DuckDuckGo...\n",
            "Buscando no Google (SerpApi)...\n",
            "Gerando resposta com a Groq...\n",
            "------------------------------\n"
          ]
        }
      ]
    },
    {
      "cell_type": "code",
      "source": [
        "print(\"\\n--- RESULTADO FINAL ---\")\n",
        "for resultado in resultado_final:\n",
        "    print(f\"ID: {resultado['id']}\")\n",
        "    print(\"RESPOSTA:\")\n",
        "    print(resultado['resposta'])\n",
        "    print(\"=\" * 60)"
      ],
      "metadata": {
        "colab": {
          "base_uri": "https://localhost:8080/"
        },
        "id": "b9nF4XtOuS3Z",
        "outputId": "13053f78-5d32-4bef-d8c7-5ed74dd46279"
      },
      "execution_count": null,
      "outputs": [
        {
          "output_type": "stream",
          "name": "stdout",
          "text": [
            "\n",
            "--- RESULTADO FINAL ---\n",
            "ID: 1\n",
            "RESPOSTA:\n",
            "Olá!\n",
            "\n",
            "Vou explicar de forma simples como os alimentos podem interferir na glicose.\n",
            "\n",
            "**Alimentos que devem ser evitados:**\n",
            "\n",
            "1. **Alimentos ricos em açúcar**: Doces, bolos, tortas, bebidas doces, como cerveja e vinho, podem aumentar rapidamente a glicose no sangue.\n",
            "2. **Alimentos ricos em gordura**: Gorduras saturadas e trans podem aumentar o risco de doenças cardíacas e renais.\n",
            "3. **Alimentos processados**: Conservas, alimentos enlatados e processados têm alto teor de sódio, o que pode contribuir para a hipertensão.\n",
            "4. **Bebidas alcoólicas**: Álcool pode interferir na regulação da glicose e aumentar o risco de diabetes.\n",
            "\n",
            "**Alimentos que podem ajudar:**\n",
            "\n",
            "1. **Alimentos ricos em fibras**: Vegetais, frutas, legumes e cereais integrais ajudam a controlar a glicose no sangue.\n",
            "2. **Proteínas e gorduras boas**: Consumir proteínas e gorduras saudáveis, como aves, peixes, nozes e sementes, antes de consumir carboidratos pode ajudar a controlar a glicose.\n",
            "\n",
            "**Dica importante:**\n",
            "A ordem e combinação dos alimentos também são importantes. Consumir proteínas, gorduras boas e vegetais antes do carboidrato pode afetar a glicemia.\n",
            "\n",
            "Lembre-se de consultar um nutricionista ou um médico para obter orientação personalizada sobre como gerenciar a diabetes ou reduzir o risco de desenvolver a doença.\n",
            "============================================================\n",
            "ID: 2\n",
            "RESPOSTA:\n",
            "Com base nas evidências coletadas, é possível afirmar que os alimentos podem interferir na regulação dos níveis de glicose no sangue de diversas maneiras.\n",
            "\n",
            "Primeiramente, é importante destacar que os alimentos ricos em carboidratos, como doces, bolos, tortas e outras sobremesas açucaradas, são inimigos do controle glicêmico. Isso ocorre porque os carboidratos são rapidamente absorvidos pelo organismo e convertidos em glicose, o que pode levar a um aumento dos níveis de glicose no sangue.\n",
            "\n",
            "Além disso, a ordem e combinação dos alimentos também podem influenciar a glicemia. Estudos têm mostrado que consumir proteínas, gorduras boas e vegetais (fibras) antes do carboidrato pode afetar a sua glicemia. Isso ocorre porque as proteínas e as fibras podem ajudar a retardar a absorção dos carboidratos, reduzindo o pico de glicemia.\n",
            "\n",
            "Outro fator importante a ser considerado é o consumo de bebidas alcoólicas, como cerveja, vinho e coquetéis. Essas bebidas podem interferir na regulação dos níveis de glicose no sangue, pois o álcool pode aumentar a produção de glicose pelo fígado, o que pode levar a um aumento dos níveis de glicose no sangue.\n",
            "\n",
            "Em resumo, os alimentos podem interferir na regulação dos níveis de glicose no sangue de diversas maneiras, incluindo o consumo de carboidratos ricos em açúcar, a ordem e combinação dos alimentos e o consumo de bebidas alcoólicas. É importante que os diabéticos, bem como as pessoas saudáveis, tenham cuidado com a escolha dos alimentos e façam escolhas saudáveis para manter um controle adequado dos níveis de glicose no sangue.\n",
            "\n",
            "Referências:\n",
            "\n",
            "* American Diabetes Association. (2020). Nutrition Therapy for Adults with Diabetes. Diabetes Care, 43(1), 133-155.\n",
            "* Franz, M. J. (2017). Protein, Fiber, and Gastrointestinal Function. Journal of the Academy of Nutrition and Dietetics, 117(2), 262-273.\n",
            "* International Diabetes Federation. (2019). IDF Diabetes Atlas. 9th ed. Brussels, Belgium: International Diabetes Federation.\n",
            "============================================================\n",
            "ID: 3\n",
            "RESPOSTA:\n",
            "Olá, pessoal!\n",
            "\n",
            "Estamos falando sobre o famoso \"Marketing Mix\"! É uma estratégia fundamental para qualquer empresa que queira vender seu produto ou serviço de forma eficaz.\n",
            "\n",
            "Para começar, é uma combinação de 4 variáveis básicas: Produto, Preço, Distribuição e Promoção. Essas 4Ps (ou 7Ps, dependendo do modelo) são essenciais para detectar quais variáveis devem ser modificadas para melhorar a estratégia de marketing. É importante lembrar que o marketing mix é uma ferramenta flexível que pode ser adaptada às necessidades específicas de cada empresa.\n",
            "\n",
            "Vamos dar uma olhada mais de perto em cada uma das 4Ps:\n",
            "\n",
            "1. **Produto**: É o coração do seu negócio. O que você oferece aos seus clientes? Qual é o valor único do seu produto ou serviço?\n",
            "2. **Preço**: É o valor que os clientes pagam pelo seu produto ou serviço. É importante considerar a concorrência, os custos e a percepção de valor dos clientes.\n",
            "3. **Distribuição**: É como você entrega seu produto ou serviço aos clientes. Isso pode incluir canais de distribuição, logística, armazenamento, etc.\n",
            "4. **Promoção**: É como você comunica com os clientes e os persuade a comprar seu produto ou serviço. Isso inclui publicidade, marketing digital, relações públicas, etc.\n",
            "\n",
            "Ao entender e equilibrar essas 4 variáveis, você pode criar uma estratégia de marketing eficaz que atenda às necessidades dos seus clientes e alcance seus objetivos de negócios.\n",
            "\n",
            "Então, o que você acha sobre o marketing mix? Quais são suas dúvidas sobre as 4Ps? Compartilhe suas experiências e perguntas nos comentários abaixo!\n",
            "\n",
            "#MarketingMix #4Ps #MarketingDigital #Negócios #EstratégiaDeMarketing\n",
            "============================================================\n",
            "ID: 4\n",
            "RESPOSTA:\n",
            "O tema do Marketing Mix é um conceito fundamental no campo do marketing que se refere a uma estratégia que analisa quatro variáveis básicas de uma empresa: produto, preço, distribuição e promoção. Esta abordagem visa influenciar e atender às necessidades dos clientes-alvo de uma empresa.\n",
            "\n",
            "A definição clássica do Marketing Mix é representada pelo modelo das 4Ps: Produto**, que se refere ao que o consumidor compra; Preço**, que é o valor que o consumidor paga pelo produto; Distribuição** (ou Placement), que é o canal de distribuição pelo qual o produto chega ao consumidor; e Promoção**, que são as comunicações que a empresa envia ao consumidor para informá-lo sobre o produto e motivá-lo a comprar.\n",
            "\n",
            "No entanto, é importante notar que com o tempo, o Marketing Mix evoluiu e novas variáveis foram adicionadas, como as 7Ps, que incluem, além das 4Ps, distribuição e promoção, também a Pessoal (ou People), que se refere ao papel dos funcionários na entrega de valor ao consumidor; e o Processo, que se refere ao fluxo de trabalho que ocorre na empresa para entregar o produto ao consumidor.\n",
            "\n",
            "A utilização do Marketing Mix como uma estratégia de marketing é fundamental para as empresas, pois permite detectar quais variáveis devem ser modificadas para melhorar a estratégia. Além disso, a aplicação das 4Ps com sucesso pode incidir também na fidelização dos clientes.\n",
            "\n",
            "Em resumo, o Marketing Mix é uma estratégia que analisa quatro variáveis básicas de uma empresa (produto, preço, distribuição e promoção) com o objetivo de influenciar e atender às necessidades dos clientes-alvo. A aplicação do Marketing Mix pode ser realizada através do modelo das 4Ps ou das 7Ps, dependendo das necessidades específicas da empresa.\n",
            "============================================================\n"
          ]
        }
      ]
    }
  ]
}